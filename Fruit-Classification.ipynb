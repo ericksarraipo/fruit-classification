{
 "cells": [
  {
   "cell_type": "markdown",
   "id": "7a73ddcd",
   "metadata": {
    "papermill": {
     "duration": 0.004282,
     "end_time": "2022-11-07T10:17:57.512330",
     "exception": false,
     "start_time": "2022-11-07T10:17:57.508048",
     "status": "completed"
    },
    "tags": []
   },
   "source": [
    "### Libraries Used"
   ]
  },
  {
   "cell_type": "code",
   "execution_count": 4,
   "id": "4005f444",
   "metadata": {
    "execution": {
     "iopub.execute_input": "2022-11-07T10:17:57.523011Z",
     "iopub.status.busy": "2022-11-07T10:17:57.521794Z",
     "iopub.status.idle": "2022-11-07T10:18:04.198401Z",
     "shell.execute_reply": "2022-11-07T10:18:04.197141Z"
    },
    "papermill": {
     "duration": 6.685411,
     "end_time": "2022-11-07T10:18:04.201444",
     "exception": false,
     "start_time": "2022-11-07T10:17:57.516033",
     "status": "completed"
    },
    "tags": []
   },
   "outputs": [
    {
     "ename": "ModuleNotFoundError",
     "evalue": "No module named 'pandas'",
     "output_type": "error",
     "traceback": [
      "\u001b[1;31m---------------------------------------------------------------------------\u001b[0m",
      "\u001b[1;31mModuleNotFoundError\u001b[0m                       Traceback (most recent call last)",
      "Cell \u001b[1;32mIn [4], line 3\u001b[0m\n\u001b[0;32m      1\u001b[0m \u001b[38;5;28;01mimport\u001b[39;00m \u001b[38;5;21;01mos\u001b[39;00m\n\u001b[0;32m      2\u001b[0m \u001b[38;5;28;01mimport\u001b[39;00m \u001b[38;5;21;01mnumpy\u001b[39;00m \u001b[38;5;28;01mas\u001b[39;00m \u001b[38;5;21;01mnp\u001b[39;00m\n\u001b[1;32m----> 3\u001b[0m \u001b[38;5;28;01mimport\u001b[39;00m \u001b[38;5;21;01mpandas\u001b[39;00m \u001b[38;5;28;01mas\u001b[39;00m \u001b[38;5;21;01mpd\u001b[39;00m\n\u001b[0;32m      4\u001b[0m \u001b[38;5;28;01mimport\u001b[39;00m \u001b[38;5;21;01mtensorflow\u001b[39;00m \u001b[38;5;28;01mas\u001b[39;00m \u001b[38;5;21;01mtf\u001b[39;00m\n\u001b[0;32m      5\u001b[0m \u001b[38;5;28;01mfrom\u001b[39;00m \u001b[38;5;21;01mtensorflow\u001b[39;00m \u001b[38;5;28;01mimport\u001b[39;00m keras\n",
      "\u001b[1;31mModuleNotFoundError\u001b[0m: No module named 'pandas'"
     ]
    }
   ],
   "source": [
    "import os\n",
    "import numpy as np\n",
    "import pandas as pd\n",
    "import tensorflow as tf\n",
    "from tensorflow import keras\n",
    "from tensorflow.keras.models import Sequential\n",
    "from tensorflow.keras.layers import Activation, Dropout, Flatten, Dense, Conv2D, MaxPooling2D\n",
    "from tensorflow.keras import layers\n",
    "from tensorflow.keras.preprocessing.image import ImageDataGenerator, img_to_array, load_img\n",
    "from tensorflow.keras.models import load_model\n",
    "import warnings\n",
    "warnings.filterwarnings(\"ignore\")\n",
    "import pathlib\n",
    "import PIL\n",
    "import matplotlib.pyplot as plt"
   ]
  },
  {
   "cell_type": "markdown",
   "id": "3c9bbd3b",
   "metadata": {
    "papermill": {
     "duration": 0.00304,
     "end_time": "2022-11-07T10:18:04.207934",
     "exception": false,
     "start_time": "2022-11-07T10:18:04.204894",
     "status": "completed"
    },
    "tags": []
   },
   "source": [
    "### Data Review"
   ]
  },
  {
   "cell_type": "code",
   "execution_count": 2,
   "id": "a62b02c9",
   "metadata": {
    "execution": {
     "iopub.execute_input": "2022-11-07T10:18:04.216435Z",
     "iopub.status.busy": "2022-11-07T10:18:04.215768Z",
     "iopub.status.idle": "2022-11-07T10:18:04.221115Z",
     "shell.execute_reply": "2022-11-07T10:18:04.220049Z"
    },
    "papermill": {
     "duration": 0.01234,
     "end_time": "2022-11-07T10:18:04.223688",
     "exception": false,
     "start_time": "2022-11-07T10:18:04.211348",
     "status": "completed"
    },
    "tags": []
   },
   "outputs": [],
   "source": [
    "trainDirectory = '../input/fruit-recognition/train/train'\n",
    "imageHeight = 100\n",
    "imageWidth = 100\n",
    "inputShape = (imageHeight, imageWidth, 3)"
   ]
  },
  {
   "cell_type": "code",
   "execution_count": 3,
   "id": "a11368ce",
   "metadata": {
    "execution": {
     "iopub.execute_input": "2022-11-07T10:18:04.232334Z",
     "iopub.status.busy": "2022-11-07T10:18:04.231806Z",
     "iopub.status.idle": "2022-11-07T10:18:06.001611Z",
     "shell.execute_reply": "2022-11-07T10:18:06.000443Z"
    },
    "papermill": {
     "duration": 1.776943,
     "end_time": "2022-11-07T10:18:06.004090",
     "exception": false,
     "start_time": "2022-11-07T10:18:04.227147",
     "status": "completed"
    },
    "tags": []
   },
   "outputs": [
    {
     "name": "stdout",
     "output_type": "stream",
     "text": [
      "Found 13493 images belonging to 33 classes.\n",
      "Found 3361 images belonging to 33 classes.\n"
     ]
    }
   ],
   "source": [
    "imageDataGenerator = ImageDataGenerator(rescale=1./255,\n",
    "                                vertical_flip=True,\n",
    "                                horizontal_flip=True,\n",
    "                                rotation_range=40,\n",
    "                                width_shift_range=0.2,\n",
    "                                height_shift_range=0.2,\n",
    "                                zoom_range=0.1,\n",
    "                                validation_split=0.2)\n",
    "\n",
    "testDataGenerator = ImageDataGenerator(rescale=1./255)\n",
    "\n",
    "trainGenerator = imageDataGenerator.flow_from_directory(trainDirectory,\n",
    "                                                 shuffle=True,\n",
    "                                                 batch_size=32,\n",
    "                                                 subset='training',\n",
    "                                                 target_size=(100, 100))\n",
    "\n",
    "validGenerator = imageDataGenerator.flow_from_directory(trainDirectory,\n",
    "                                                 shuffle=True,\n",
    "                                                 batch_size=16,\n",
    "                                                 subset='validation',\n",
    "                                                 target_size=(100, 100))"
   ]
  },
  {
   "cell_type": "markdown",
   "id": "ff1297aa",
   "metadata": {
    "papermill": {
     "duration": 0.003376,
     "end_time": "2022-11-07T10:18:06.011123",
     "exception": false,
     "start_time": "2022-11-07T10:18:06.007747",
     "status": "completed"
    },
    "tags": []
   },
   "source": [
    "### CNN Model"
   ]
  },
  {
   "cell_type": "code",
   "execution_count": 4,
   "id": "e2e466fc",
   "metadata": {
    "execution": {
     "iopub.execute_input": "2022-11-07T10:18:06.020613Z",
     "iopub.status.busy": "2022-11-07T10:18:06.019551Z",
     "iopub.status.idle": "2022-11-07T10:18:06.603315Z",
     "shell.execute_reply": "2022-11-07T10:18:06.602116Z"
    },
    "papermill": {
     "duration": 0.591537,
     "end_time": "2022-11-07T10:18:06.606272",
     "exception": false,
     "start_time": "2022-11-07T10:18:06.014735",
     "status": "completed"
    },
    "tags": []
   },
   "outputs": [
    {
     "name": "stderr",
     "output_type": "stream",
     "text": [
      "2022-11-07 10:18:06.065128: I tensorflow/core/common_runtime/process_util.cc:146] Creating new thread pool with default inter op setting: 2. Tune using inter_op_parallelism_threads for best performance.\n"
     ]
    },
    {
     "name": "stdout",
     "output_type": "stream",
     "text": [
      "Model: \"sequential\"\n",
      "_________________________________________________________________\n",
      "Layer (type)                 Output Shape              Param #   \n",
      "=================================================================\n",
      "conv2d (Conv2D)              (None, 100, 100, 64)      4864      \n",
      "_________________________________________________________________\n",
      "conv2d_1 (Conv2D)            (None, 100, 100, 64)      102464    \n",
      "_________________________________________________________________\n",
      "max_pooling2d (MaxPooling2D) (None, 50, 50, 64)        0         \n",
      "_________________________________________________________________\n",
      "dropout (Dropout)            (None, 50, 50, 64)        0         \n",
      "_________________________________________________________________\n",
      "conv2d_2 (Conv2D)            (None, 50, 50, 128)       73856     \n",
      "_________________________________________________________________\n",
      "conv2d_3 (Conv2D)            (None, 50, 50, 128)       147584    \n",
      "_________________________________________________________________\n",
      "max_pooling2d_1 (MaxPooling2 (None, 25, 25, 128)       0         \n",
      "_________________________________________________________________\n",
      "dropout_1 (Dropout)          (None, 25, 25, 128)       0         \n",
      "_________________________________________________________________\n",
      "flatten (Flatten)            (None, 80000)             0         \n",
      "_________________________________________________________________\n",
      "dense (Dense)                (None, 256)               20480256  \n",
      "_________________________________________________________________\n",
      "dropout_2 (Dropout)          (None, 256)               0         \n",
      "_________________________________________________________________\n",
      "dense_1 (Dense)              (None, 33)                8481      \n",
      "=================================================================\n",
      "Total params: 20,817,505\n",
      "Trainable params: 20,817,505\n",
      "Non-trainable params: 0\n",
      "_________________________________________________________________\n"
     ]
    }
   ],
   "source": [
    "model = Sequential()\n",
    "\n",
    "model.add(Conv2D(64, (5, 5), activation='relu', padding='Same', input_shape=inputShape))\n",
    "model.add(Conv2D(64, (5, 5), activation='relu', padding='Same'))\n",
    "model.add(MaxPooling2D((2, 2)))\n",
    "model.add(Dropout(0.25))\n",
    "\n",
    "model.add(Conv2D(128, (3, 3), activation='relu', padding='Same'))\n",
    "model.add(Conv2D(128, (3, 3), activation='relu', padding='Same'))\n",
    "model.add(MaxPooling2D((2, 2), strides=(2, 2)))\n",
    "model.add(Dropout(0.25))\n",
    "\n",
    "model.add(Flatten())\n",
    "model.add(Dense(256, activation='relu'))\n",
    "model.add(Dropout(0.5))\n",
    "model.add(Dense(33, activation='softmax'))\n",
    "\n",
    "model.compile(loss='categorical_crossentropy', optimizer=tf.keras.optimizers.Adam(1e-4), metrics=['accuracy'])\n",
    "model.summary()"
   ]
  },
  {
   "cell_type": "code",
   "execution_count": 5,
   "id": "c0c022dc",
   "metadata": {
    "execution": {
     "iopub.execute_input": "2022-11-07T10:18:06.616315Z",
     "iopub.status.busy": "2022-11-07T10:18:06.615837Z",
     "iopub.status.idle": "2022-11-07T14:30:22.769495Z",
     "shell.execute_reply": "2022-11-07T14:30:22.768201Z"
    },
    "papermill": {
     "duration": 15136.161951,
     "end_time": "2022-11-07T14:30:22.772424",
     "exception": false,
     "start_time": "2022-11-07T10:18:06.610473",
     "status": "completed"
    },
    "tags": []
   },
   "outputs": [
    {
     "name": "stderr",
     "output_type": "stream",
     "text": [
      "2022-11-07 10:18:07.010982: I tensorflow/compiler/mlir/mlir_graph_optimization_pass.cc:185] None of the MLIR Optimization Passes are enabled (registered 2)\n"
     ]
    },
    {
     "name": "stdout",
     "output_type": "stream",
     "text": [
      "Epoch 1/10\n",
      "421/421 [==============================] - 1484s 4s/step - loss: 2.3230 - accuracy: 0.2995 - val_loss: 1.0779 - val_accuracy: 0.6631\n",
      "Epoch 2/10\n",
      "421/421 [==============================] - 1473s 3s/step - loss: 1.0913 - accuracy: 0.6272 - val_loss: 0.4180 - val_accuracy: 0.8723\n",
      "Epoch 3/10\n",
      "421/421 [==============================] - 1478s 4s/step - loss: 0.6274 - accuracy: 0.7793 - val_loss: 0.2132 - val_accuracy: 0.9324\n",
      "Epoch 4/10\n",
      "421/421 [==============================] - 1496s 4s/step - loss: 0.4717 - accuracy: 0.8319 - val_loss: 0.1138 - val_accuracy: 0.9729\n",
      "Epoch 5/10\n",
      "421/421 [==============================] - 1512s 4s/step - loss: 0.3787 - accuracy: 0.8688 - val_loss: 0.0900 - val_accuracy: 0.9750\n",
      "Epoch 6/10\n",
      "421/421 [==============================] - 1483s 4s/step - loss: 0.3167 - accuracy: 0.8913 - val_loss: 0.0936 - val_accuracy: 0.9676\n",
      "Epoch 7/10\n",
      "421/421 [==============================] - 1493s 4s/step - loss: 0.2536 - accuracy: 0.9106 - val_loss: 0.0683 - val_accuracy: 0.9765\n",
      "Epoch 8/10\n",
      "421/421 [==============================] - 1512s 4s/step - loss: 0.2322 - accuracy: 0.9207 - val_loss: 0.0468 - val_accuracy: 0.9866\n",
      "Epoch 9/10\n",
      "421/421 [==============================] - 1487s 4s/step - loss: 0.2110 - accuracy: 0.9254 - val_loss: 0.0693 - val_accuracy: 0.9759\n",
      "Epoch 10/10\n",
      "421/421 [==============================] - 1475s 4s/step - loss: 0.1845 - accuracy: 0.9385 - val_loss: 0.0505 - val_accuracy: 0.9821\n"
     ]
    }
   ],
   "source": [
    "early = tf.keras.callbacks.EarlyStopping(monitor='val_accuracy', patience=3, mode='max',\n",
    "                                        restore_best_weights=True)\n",
    "history = model.fit(trainGenerator, validation_data=validGenerator,\n",
    "                   steps_per_epoch=trainGenerator.n//trainGenerator.batch_size,\n",
    "                    validation_steps=validGenerator.n//validGenerator.batch_size,\n",
    "                    callbacks=[early],\n",
    "                   epochs=10)"
   ]
  },
  {
   "cell_type": "markdown",
   "id": "23ff93e3",
   "metadata": {
    "papermill": {
     "duration": 0.272703,
     "end_time": "2022-11-07T14:30:23.312331",
     "exception": false,
     "start_time": "2022-11-07T14:30:23.039628",
     "status": "completed"
    },
    "tags": []
   },
   "source": [
    "##### Saving the model"
   ]
  },
  {
   "cell_type": "code",
   "execution_count": 6,
   "id": "db0d5ff1",
   "metadata": {
    "execution": {
     "iopub.execute_input": "2022-11-07T14:30:23.856153Z",
     "iopub.status.busy": "2022-11-07T14:30:23.855741Z",
     "iopub.status.idle": "2022-11-07T14:30:26.153643Z",
     "shell.execute_reply": "2022-11-07T14:30:26.152484Z"
    },
    "papermill": {
     "duration": 2.574842,
     "end_time": "2022-11-07T14:30:26.156242",
     "exception": false,
     "start_time": "2022-11-07T14:30:23.581400",
     "status": "completed"
    },
    "tags": []
   },
   "outputs": [
    {
     "name": "stderr",
     "output_type": "stream",
     "text": [
      "2022-11-07 14:30:24.429142: W tensorflow/python/util/util.cc:348] Sets are not currently considered sequences, but this may change in the future, so consider avoiding using them.\n"
     ]
    }
   ],
   "source": [
    "model.save('model_CNN_saved')"
   ]
  },
  {
   "cell_type": "code",
   "execution_count": 7,
   "id": "0dc06d8d",
   "metadata": {
    "execution": {
     "iopub.execute_input": "2022-11-07T14:30:26.697183Z",
     "iopub.status.busy": "2022-11-07T14:30:26.696781Z",
     "iopub.status.idle": "2022-11-07T14:30:27.485665Z",
     "shell.execute_reply": "2022-11-07T14:30:27.484506Z"
    },
    "papermill": {
     "duration": 1.069252,
     "end_time": "2022-11-07T14:30:27.488311",
     "exception": false,
     "start_time": "2022-11-07T14:30:26.419059",
     "status": "completed"
    },
    "tags": []
   },
   "outputs": [
    {
     "data": {
      "text/plain": [
       "{0: 'Apple Braeburn',\n",
       " 1: 'Apple Granny Smith',\n",
       " 2: 'Apricot',\n",
       " 3: 'Avocado',\n",
       " 4: 'Banana',\n",
       " 5: 'Blueberry',\n",
       " 6: 'Cactus fruit',\n",
       " 7: 'Cantaloupe',\n",
       " 8: 'Cherry',\n",
       " 9: 'Clementine',\n",
       " 10: 'Corn',\n",
       " 11: 'Cucumber Ripe',\n",
       " 12: 'Grape Blue',\n",
       " 13: 'Kiwi',\n",
       " 14: 'Lemon',\n",
       " 15: 'Limes',\n",
       " 16: 'Mango',\n",
       " 17: 'Onion White',\n",
       " 18: 'Orange',\n",
       " 19: 'Papaya',\n",
       " 20: 'Passion Fruit',\n",
       " 21: 'Peach',\n",
       " 22: 'Pear',\n",
       " 23: 'Pepper Green',\n",
       " 24: 'Pepper Red',\n",
       " 25: 'Pineapple',\n",
       " 26: 'Plum',\n",
       " 27: 'Pomegranate',\n",
       " 28: 'Potato Red',\n",
       " 29: 'Raspberry',\n",
       " 30: 'Strawberry',\n",
       " 31: 'Tomato',\n",
       " 32: 'Watermelon'}"
      ]
     },
     "execution_count": 7,
     "metadata": {},
     "output_type": "execute_result"
    }
   ],
   "source": [
    "model = load_model('model_CNN_saved')\n",
    "fruitMap = dict([(v, k) for k, v in trainGenerator.class_indices.items()])\n",
    "fruitMap"
   ]
  },
  {
   "cell_type": "markdown",
   "id": "74056dae",
   "metadata": {
    "papermill": {
     "duration": 0.270748,
     "end_time": "2022-11-07T14:30:28.045103",
     "exception": false,
     "start_time": "2022-11-07T14:30:27.774355",
     "status": "completed"
    },
    "tags": []
   },
   "source": [
    "##### Loading Image to Classifiy it."
   ]
  },
  {
   "cell_type": "code",
   "execution_count": 8,
   "id": "980b9519",
   "metadata": {
    "execution": {
     "iopub.execute_input": "2022-11-07T14:30:28.586133Z",
     "iopub.status.busy": "2022-11-07T14:30:28.585391Z",
     "iopub.status.idle": "2022-11-07T14:30:29.075290Z",
     "shell.execute_reply": "2022-11-07T14:30:29.074116Z"
    },
    "papermill": {
     "duration": 0.761817,
     "end_time": "2022-11-07T14:30:29.078291",
     "exception": false,
     "start_time": "2022-11-07T14:30:28.316474",
     "status": "completed"
    },
    "tags": []
   },
   "outputs": [
    {
     "name": "stdout",
     "output_type": "stream",
     "text": [
      "This image is Mango with a 100.00 %\n"
     ]
    },
    {
     "data": {
      "image/png": "[encoded data removed]",
      "text/plain": [
       "<Figure size 432x288 with 1 Axes>"
      ]
     },
     "metadata": {
      "needs_background": "light"
     },
     "output_type": "display_data"
    }
   ],
   "source": [
    "samplePath = pathlib.Path(\"../input/fruit-recognition/train/train/Mango/Mango_1.jpg\")\n",
    "\n",
    "image = tf.keras.preprocessing.image.load_img(\n",
    "    samplePath, target_size=(100, 100)\n",
    ")\n",
    "\n",
    "plt.imshow(image)\n",
    "image = np.array(image)\n",
    "image = image / 255.0\n",
    "image = image.reshape(1,imageWidth,imageHeight,3)\n",
    "predictions = model.predict(image)\n",
    "predictions\n",
    "score = tf.nn.softmax(predictions[0])\n",
    "print(\"This image is {} with a {:.2f} %\".format(fruitMap[np.argmax(score)],100 * np.max(predictions)))"
   ]
  }
 ],
 "metadata": {
  "kernelspec": {
   "display_name": "Python 3.10.5 64-bit",
   "language": "python",
   "name": "python3"
  },
  "language_info": {
   "codemirror_mode": {
    "name": "ipython",
    "version": 3
   },
   "file_extension": ".py",
   "mimetype": "text/x-python",
   "name": "python",
   "nbconvert_exporter": "python",
   "pygments_lexer": "ipython3",
   "version": "3.10.5"
  },
  "papermill": {
   "default_parameters": {},
   "duration": 15164.532247,
   "end_time": "2022-11-07T14:30:32.857833",
   "environment_variables": {},
   "exception": null,
   "input_path": "__notebook__.ipynb",
   "output_path": "__notebook__.ipynb",
   "parameters": {},
   "start_time": "2022-11-07T10:17:48.325586",
   "version": "2.3.4"
  },
  "vscode": {
   "interpreter": {
    "hash": "369f2c481f4da34e4445cda3fffd2e751bd1c4d706f27375911949ba6bb62e1c"
   }
  }
 },
 "nbformat": 4,
 "nbformat_minor": 5
}
